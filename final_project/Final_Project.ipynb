{
 "cells": [
  {
   "cell_type": "code",
   "execution_count": 1,
   "metadata": {
    "collapsed": false
   },
   "outputs": [
    {
     "name": "stdout",
     "output_type": "stream",
     "text": [
      "['METTS MARK', 'BAXTER JOHN C', 'ELLIOTT STEVEN', 'CORDES WILLIAM R', 'HANNON KEVIN P', 'MORDAUNT KRISTINA M', 'MEYER ROCKFORD G', 'MCMAHON JEFFREY', 'HORTON STANLEY C', 'PIPER GREGORY F', 'HUMPHREY GENE E', 'UMANOFF ADAM S', 'BLACHMAN JEREMY M', 'SUNDE MARTIN', 'GIBBS DANA R', 'LOWRY CHARLES P', 'COLWELL WESLEY', 'MULLER MARK S', 'JACKSON CHARLENE R', 'WESTFAHL RICHARD K', 'WALTERS GARETH W', 'WALLS JR ROBERT H', 'KITCHEN LOUISE', 'CHAN RONNIE', 'BELFER ROBERT', 'SHANKMAN JEFFREY A', 'WODRASKA JOHN', 'BERGSIEKER RICHARD P', 'URQUHART JOHN A', 'BIBI PHILIPPE A', 'RIEKER PAULA H', 'WHALEY DAVID A', 'BECK SALLY W', 'HAUG DAVID L', 'ECHOLS JOHN B', 'MENDELSOHN JOHN', 'HICKERSON GARY J', 'CLINE KENNETH W', 'LEWIS RICHARD', 'HAYES ROBERT E', 'MCCARTY DANNY J', 'KOPPER MICHAEL J', 'LEFF DANIEL P', 'LAVORATO JOHN J', 'BERBERIAN DAVID', 'DETMERING TIMOTHY J', 'WAKEHAM JOHN', 'POWERS WILLIAM', 'GOLD JOSEPH', 'BANNANTINE JAMES M', 'DUNCAN JOHN H', 'SHAPIRO RICHARD S', 'SHERRIFF JOHN R', 'SHELBY REX', 'LEMAISTRE CHARLES', 'DEFFNER JOSEPH M', 'KISHKILL JOSEPH G', 'WHALLEY LAWRENCE G', 'MCCONNELL MICHAEL S', 'PIRO JIM', 'DELAINEY DAVID W', 'SULLIVAN-SHAKLOVITZ COLLEEN', 'WROBEL BRUCE', 'LINDHOLM TOD A', 'MEYER JEROME J', 'LAY KENNETH L', 'BUTTS ROBERT H', 'OLSON CINDY K', 'MCDONALD REBECCA', 'CUMBERLAND MICHAEL S', 'GAHN ROBERT S', 'MCCLELLAN GEORGE', 'HERMANN ROBERT J', 'SCRIMSHAW MATTHEW', 'GATHMANN WILLIAM D', 'HAEDICKE MARK E', 'BOWEN JR RAYMOND M', 'GILLIS JOHN', 'FITZGERALD JAY L', 'MORAN MICHAEL P', 'REDMOND BRIAN L', 'BAZELIDES PHILIP J', 'BELDEN TIMOTHY N', 'DURAN WILLIAM D', 'THORN TERENCE H', 'FASTOW ANDREW S', 'FOY JOE', 'CALGER CHRISTOPHER F', 'RICE KENNETH D', 'KAMINSKI WINCENTY J', 'LOCKHART EUGENE E', 'COX DAVID', 'OVERDYKE JR JERE C', 'PEREIRA PAULO V. FERRAZ', 'STABLER FRANK', 'SKILLING JEFFREY K', 'BLAKE JR. NORMAN P', 'SHERRICK JEFFREY B', 'PRENTICE JAMES', 'GRAY RODNEY', 'PICKERING MARK R', 'THE TRAVEL AGENCY IN THE PARK', 'NOLES JAMES L', 'KEAN STEVEN J', 'TOTAL', 'FOWLER PEGGY', 'WASAFF GEORGE', 'WHITE JR THOMAS E', 'CHRISTODOULOU DIOMEDES', 'ALLEN PHILLIP K', 'SHARP VICTORIA T', 'JAEDICKE ROBERT', 'WINOKUR JR. HERBERT S', 'BROWN MICHAEL', 'BADUM JAMES P', 'HUGHES JAMES A', 'REYNOLDS LAWRENCE', 'DIMICHELE RICHARD G', 'BHATNAGAR SANJAY', 'CARTER REBECCA C', 'BUCHANAN HAROLD G', 'YEAP SOON', 'MURRAY JULIA H', 'GARLAND C KEVIN', 'DODSON KEITH', 'YEAGER F SCOTT', 'HIRKO JOSEPH', 'DIETRICH JANET R', 'DERRICK JR. JAMES V', 'FREVERT MARK A', 'PAI LOU L', 'BAY FRANKLIN R', 'HAYSLETT RODERICK J', 'FUGH JOHN L', 'FALLON JAMES B', 'KOENIG MARK E', 'SAVAGE FRANK', 'IZZO LAWRENCE L', 'TILNEY ELIZABETH A', 'MARTIN AMANDA K', 'BUY RICHARD B', 'GRAMM WENDY L', 'CAUSEY RICHARD A', 'TAYLOR MITCHELL S', 'DONAHUE JR JEFFREY M', 'GLISAN JR BEN F']\n"
     ]
    }
   ],
   "source": [
    "#!/usr/bin/python\n",
    "\n",
    "from IPython.display import Image\n",
    "import numpy as np\n",
    "import matplotlib.pyplot as plt\n",
    "import sys\n",
    "import pickle\n",
    "sys.path.append(\"../tools/\")\n",
    "\n",
    "from feature_format import featureFormat, targetFeatureSplit\n",
    "from tester import dump_classifier_and_data\n",
    "\n",
    "### Load the dictionary containing the dataset\n",
    "with open(\"final_project_dataset.pkl\", \"r\") as data_file:\n",
    "    data_dict = pickle.load(data_file)\n",
    "\n",
    "print data_dict.keys()"
   ]
  },
  {
   "cell_type": "code",
   "execution_count": 2,
   "metadata": {
    "collapsed": false
   },
   "outputs": [
    {
     "name": "stdout",
     "output_type": "stream",
     "text": [
      "{'salary': 'NaN', 'to_messages': 764, 'deferral_payments': 'NaN', 'total_payments': 'NaN', 'exercised_stock_options': 651850, 'bonus': 'NaN', 'restricted_stock': 386335, 'shared_receipt_with_poi': 58, 'restricted_stock_deferred': 'NaN', 'total_stock_value': 1038185, 'expenses': 'NaN', 'loan_advances': 'NaN', 'from_messages': 12, 'other': 'NaN', 'from_this_person_to_poi': 0, 'poi': False, 'director_fees': 'NaN', 'deferred_income': 'NaN', 'long_term_incentive': 'NaN', 'email_address': 'bill.cordes@enron.com', 'from_poi_to_this_person': 10}\n"
     ]
    }
   ],
   "source": [
    "print data_dict['CORDES WILLIAM R']"
   ]
  },
  {
   "cell_type": "code",
   "execution_count": 3,
   "metadata": {
    "collapsed": false
   },
   "outputs": [
    {
     "data": {
      "image/png": "[encoded data removed]",
      "text/plain": [
       "<matplotlib.figure.Figure at 0x110f3ef90>"
      ]
     },
     "metadata": {},
     "output_type": "display_data"
    }
   ],
   "source": [
    "%matplotlib inline\n",
    "\n",
    "features = [\"salary\", \"bonus\"]\n",
    "data = featureFormat(data_dict, features, sort_keys = True)\n",
    "\n",
    "for point in data:\n",
    "    salary = point[0]\n",
    "    bonus = point[1]\n",
    "    plt.scatter( salary, bonus )\n",
    "\n",
    "plt.xlabel(\"salary\")\n",
    "plt.ylabel(\"bonus\")\n",
    "plt.show()"
   ]
  },
  {
   "cell_type": "code",
   "execution_count": 4,
   "metadata": {
    "collapsed": false
   },
   "outputs": [
    {
     "name": "stdout",
     "output_type": "stream",
     "text": [
      "TOTAL 26704229\n"
     ]
    }
   ],
   "source": [
    "for key, value in data_dict.items():\n",
    "    if (value[\"salary\"] != 'NaN') and (value[\"salary\"] > 2e7) :\n",
    "        print key, value[\"salary\"]"
   ]
  },
  {
   "cell_type": "code",
   "execution_count": 5,
   "metadata": {
    "collapsed": false
   },
   "outputs": [
    {
     "data": {
      "text/plain": [
       "{'bonus': 97343619,\n",
       " 'deferral_payments': 32083396,\n",
       " 'deferred_income': -27992891,\n",
       " 'director_fees': 1398517,\n",
       " 'email_address': 'NaN',\n",
       " 'exercised_stock_options': 311764000,\n",
       " 'expenses': 5235198,\n",
       " 'from_messages': 'NaN',\n",
       " 'from_poi_to_this_person': 'NaN',\n",
       " 'from_this_person_to_poi': 'NaN',\n",
       " 'loan_advances': 83925000,\n",
       " 'long_term_incentive': 48521928,\n",
       " 'other': 42667589,\n",
       " 'poi': False,\n",
       " 'restricted_stock': 130322299,\n",
       " 'restricted_stock_deferred': -7576788,\n",
       " 'salary': 26704229,\n",
       " 'shared_receipt_with_poi': 'NaN',\n",
       " 'to_messages': 'NaN',\n",
       " 'total_payments': 309886585,\n",
       " 'total_stock_value': 434509511}"
      ]
     },
     "execution_count": 5,
     "metadata": {},
     "output_type": "execute_result"
    }
   ],
   "source": [
    "data_dict.pop('TOTAL', 0)"
   ]
  },
  {
   "cell_type": "code",
   "execution_count": 6,
   "metadata": {
    "collapsed": false
   },
   "outputs": [
    {
     "data": {
      "image/png": "[encoded data removed]",
      "text/plain": [
       "<matplotlib.figure.Figure at 0x113a2c790>"
      ]
     },
     "metadata": {},
     "output_type": "display_data"
    }
   ],
   "source": [
    "features = [\"salary\", \"bonus\"]\n",
    "data = featureFormat(data_dict, features, sort_keys = True)\n",
    "\n",
    "for point in data:\n",
    "    salary = point[0]\n",
    "    bonus = point[1]\n",
    "    plt.scatter( salary, bonus )\n",
    "\n",
    "plt.xlabel(\"salary\")\n",
    "plt.ylabel(\"bonus\")\n",
    "plt.show()"
   ]
  },
  {
   "cell_type": "code",
   "execution_count": 7,
   "metadata": {
    "collapsed": true
   },
   "outputs": [],
   "source": [
    "for key, value in data_dict.items():\n",
    "    if (value[\"from_poi_to_this_person\"] == \"NaN\") or (value[\"to_messages\"] == \"NaN\"):\n",
    "        data_dict[key][\"from_poi_email_fraction\"] = 0\n",
    "    else:\n",
    "        data_dict[key][\"from_poi_email_fraction\"] = float(value[\"from_poi_to_this_person\"]) / value[\"to_messages\"]\n",
    "        \n",
    "    if (value[\"from_this_person_to_poi\"] == \"NaN\") or (value[\"from_messages\"] == \"NaN\"):\n",
    "        data_dict[key][\"to_poi_email_fraction\"] = 0\n",
    "    else:\n",
    "        data_dict[key][\"to_poi_email_fraction\"] = float(value[\"from_this_person_to_poi\"]) / value[\"from_messages\"]"
   ]
  },
  {
   "cell_type": "code",
   "execution_count": 8,
   "metadata": {
    "collapsed": false
   },
   "outputs": [
    {
     "data": {
      "image/png": "[encoded data removed]",
      "text/plain": [
       "<matplotlib.figure.Figure at 0x113df0bd0>"
      ]
     },
     "metadata": {},
     "output_type": "display_data"
    }
   ],
   "source": [
    "features = [\"poi\", \"from_poi_email_fraction\", \"to_poi_email_fraction\"]\n",
    "data = featureFormat(data_dict, features, sort_keys = True)\n",
    "\n",
    "POI_from_poi = []\n",
    "POI_to_poi = []\n",
    "Non_POI_from_poi = []\n",
    "Non_POI_to_poi = []\n",
    "for point in data:\n",
    "    from_poi_email_fraction = point[1]\n",
    "    to_poi_email_fraction = point[2]\n",
    "    if point[0] == 1:\n",
    "        POI_from_poi.append(from_poi_email_fraction)\n",
    "        POI_to_poi.append(to_poi_email_fraction)\n",
    "    else:\n",
    "        Non_POI_from_poi.append(from_poi_email_fraction)\n",
    "        Non_POI_to_poi.append(to_poi_email_fraction)\n",
    "\n",
    "plt.scatter( POI_from_poi, POI_to_poi, color=\"r\", marker=\"*\")\n",
    "plt.scatter( Non_POI_from_poi, Non_POI_to_poi)\n",
    "plt.xlabel(\"from_poi_email_fraction\")\n",
    "plt.ylabel(\"to_poi_email_fraction\")\n",
    "plt.show()"
   ]
  },
  {
   "cell_type": "code",
   "execution_count": 9,
   "metadata": {
    "collapsed": false
   },
   "outputs": [
    {
     "name": "stdout",
     "output_type": "stream",
     "text": [
      "accuracy is 0.772727272727\n",
      "Feature Ranking: \n",
      "Feature 1: deferred_income (0.423529411765)\n",
      "Feature 2: exercised_stock_options (0.25)\n",
      "Feature 3: to_poi_email_fraction (0.204318689501)\n",
      "Feature 4: restricted_stock (0.0633283693224)\n",
      "Feature 5: expenses (0.0588235294118)\n",
      "Feature 6: long_term_incentive (0.0)\n",
      "Feature 7: director_fees (0.0)\n",
      "Feature 8: loan_advances (0.0)\n",
      "Feature 9: total_stock_value (0.0)\n",
      "Feature 10: restricted_stock_deferred (0.0)\n",
      "Feature 11: shared_receipt_with_poi (0.0)\n",
      "Feature 12: bonus (0.0)\n",
      "Feature 13: total_payments (0.0)\n",
      "Feature 14: deferral_payments (0.0)\n",
      "Feature 15: salary (0.0)\n",
      "Feature 16: from_poi_email_fraction (0.0)\n",
      "precision is  0.25\n",
      "recall is  0.125\n"
     ]
    }
   ],
   "source": [
    "\n",
    "\n",
    "features_list = ['poi', 'from_poi_email_fraction', 'to_poi_email_fraction','salary', 'deferral_payments',\n",
    "                 'total_payments', 'exercised_stock_options', 'bonus', 'restricted_stock', 'shared_receipt_with_poi',\n",
    "                 'restricted_stock_deferred', 'total_stock_value','expenses', 'loan_advances', 'director_fees',\n",
    "                 'deferred_income', 'long_term_incentive']\n",
    "\n",
    "my_dataset = data_dict\n",
    "\n",
    "data = featureFormat(my_dataset, features_list)\n",
    "\n",
    "labels, features = targetFeatureSplit(data)\n",
    "\n",
    "from sklearn.cross_validation import train_test_split\n",
    "features_train, features_test, labels_train, labels_test = \\\n",
    "    train_test_split(features, labels, test_size=0.3, random_state=42)\n",
    "\n",
    "from sklearn import tree\n",
    "clf = tree.DecisionTreeClassifier(min_samples_split=5)\n",
    "clf = clf.fit(features_train, labels_train)\n",
    "\n",
    "print \"accuracy is\", clf.score(features_test, labels_test)\n",
    "\n",
    "importances = clf.feature_importances_\n",
    "# print importances\n",
    "indices = np.argsort(importances)[::-1]\n",
    "# print indices\n",
    "print 'Feature Ranking: '\n",
    "for i in range(len(features_list)-1):\n",
    "    print \"Feature {}: {} ({})\".format(i+1,features_list[indices[i] + 1],importances[indices[i]])\n",
    "\n",
    "from sklearn.metrics import precision_score\n",
    "from sklearn.metrics import recall_score\n",
    "pred = clf.predict(features_test)  \n",
    "print \"precision is \", precision_score(labels_test, pred)\n",
    "print \"recall is \", recall_score(labels_test, pred)"
   ]
  },
  {
   "cell_type": "code",
   "execution_count": 10,
   "metadata": {
    "collapsed": false
   },
   "outputs": [
    {
     "name": "stdout",
     "output_type": "stream",
     "text": [
      "precision is  0.5\n",
      "recall is  0.6\n"
     ]
    }
   ],
   "source": [
    "#!/usr/bin/python\n",
    "\n",
    "import matplotlib.pyplot as plt\n",
    "import sys\n",
    "import pickle\n",
    "sys.path.append(\"../tools/\")\n",
    "\n",
    "from feature_format import featureFormat, targetFeatureSplit\n",
    "from tester import dump_classifier_and_data\n",
    "\n",
    "### Task 1: Select what features you'll use.\n",
    "### features_list is a list of strings, each of which is a feature name.\n",
    "### The first feature must be \"poi\".\n",
    "features_list = ['poi', 'total_stock_value', 'deferred_income', 'from_poi_email_fraction', \n",
    "                        'to_poi_email_fraction', 'shared_receipt_with_poi', 'salary', 'bonus', 'total_payments',\n",
    "                        ] # You will need to use more features\n",
    "\n",
    "### Load the dictionary containing the dataset\n",
    "with open(\"final_project_dataset.pkl\", \"r\") as data_file:\n",
    "    data_dict = pickle.load(data_file)\n",
    "\n",
    "\n",
    "### Task 2: Remove outliers\n",
    "data_dict.pop('TOTAL', 0)\n",
    "\n",
    "### Task 3: Create new feature(s)\n",
    "for key, value in data_dict.items():\n",
    "    if (value[\"from_poi_to_this_person\"] == \"NaN\") or (value[\"to_messages\"] == \"NaN\"):\n",
    "        data_dict[key][\"from_poi_email_fraction\"] = 0\n",
    "    else:\n",
    "        data_dict[key][\"from_poi_email_fraction\"] = float(value[\"from_poi_to_this_person\"]) / value[\"to_messages\"]\n",
    "        \n",
    "    if (value[\"from_this_person_to_poi\"] == \"NaN\") or (value[\"from_messages\"] == \"NaN\"):\n",
    "        data_dict[key][\"to_poi_email_fraction\"] = 0\n",
    "    else:\n",
    "        data_dict[key][\"to_poi_email_fraction\"] = float(value[\"from_this_person_to_poi\"]) / value[\"from_messages\"]\n",
    "### Store to my_dataset for easy export below.\n",
    "my_dataset = data_dict\n",
    "\n",
    "### Extract features and labels from dataset for local testing\n",
    "data = featureFormat(my_dataset, features_list, sort_keys = True)\n",
    "labels, features = targetFeatureSplit(data)\n",
    "\n",
    "### Task 4: Try a varity of classifiers\n",
    "### Please name your classifier clf for easy export below.\n",
    "### Note that if you want to do PCA or other multi-stage operations,\n",
    "### you'll need to use Pipelines. For more info:\n",
    "### http://scikit-learn.org/stable/modules/pipeline.html\n",
    "\n",
    "# Provided to give you a starting point. Try a variety of classifiers.\n",
    "from sklearn import tree\n",
    "clf = tree.DecisionTreeClassifier(min_samples_split=5)\n",
    "\n",
    "### Task 5: Tune your classifier to achieve better than .3 precision and recall \n",
    "### using our testing script. Check the tester.py script in the final project\n",
    "### folder for details on the evaluation method, especially the test_classifier\n",
    "### function. Because of the small size of the dataset, the script uses\n",
    "### stratified shuffle split cross validation. For more info: \n",
    "### http://scikit-learn.org/stable/modules/generated/sklearn.cross_validation.StratifiedShuffleSplit.html\n",
    "\n",
    "# Example starting point. Try investigating other evaluation techniques!\n",
    "'''\n",
    "from sklearn.cross_validation import train_test_split\n",
    "features_train, features_test, labels_train, labels_test = \\\n",
    "    train_test_split(features, labels, test_size=0.3, random_state=42)\n",
    "'''\n",
    "\n",
    "### use KFold for split and validate algorithm\n",
    "\n",
    "from sklearn.cross_validation import KFold\n",
    "kf=KFold(len(labels),3)\n",
    "for train_indices, test_indices in kf:\n",
    "    #make training and testing sets\n",
    "    features_train= [features[ii] for ii in train_indices]\n",
    "    features_test= [features[ii] for ii in test_indices]\n",
    "    labels_train=[labels[ii] for ii in train_indices]\n",
    "    labels_test=[labels[ii] for ii in test_indices]\n",
    "\n",
    "\n",
    "\n",
    "clf = clf.fit(features_train, labels_train)\n",
    "from sklearn.metrics import precision_score\n",
    "from sklearn.metrics import recall_score\n",
    "pred = clf.predict(features_test)  \n",
    "print \"precision is \", precision_score(labels_test, pred)\n",
    "print \"recall is \", recall_score(labels_test, pred)\n",
    "\n",
    "### Task 6: Dump your classifier, dataset, and features_list so anyone can\n",
    "### check your results. You do not need to change anything below, but make sure\n",
    "### that the version of poi_id.py that you submit can be run on its own and\n",
    "### generates the necessary .pkl files for validating your results.\n",
    "\n",
    "dump_classifier_and_data(clf, my_dataset, features_list)"
   ]
  },
  {
   "cell_type": "code",
   "execution_count": null,
   "metadata": {
    "collapsed": true
   },
   "outputs": [],
   "source": []
  }
 ],
 "metadata": {
  "kernelspec": {
   "display_name": "Python 2",
   "language": "python",
   "name": "python2"
  },
  "language_info": {
   "codemirror_mode": {
    "name": "ipython",
    "version": 2
   },
   "file_extension": ".py",
   "mimetype": "text/x-python",
   "name": "python",
   "nbconvert_exporter": "python",
   "pygments_lexer": "ipython2",
   "version": "2.7.11"
  }
 },
 "nbformat": 4,
 "nbformat_minor": 0
}
